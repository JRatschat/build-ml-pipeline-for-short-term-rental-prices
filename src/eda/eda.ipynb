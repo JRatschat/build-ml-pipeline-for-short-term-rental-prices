{
 "cells": [
  {
   "cell_type": "markdown",
   "id": "31c43363",
   "metadata": {},
   "source": [
    "# Exploratory Data Analysis"
   ]
  },
  {
   "cell_type": "markdown",
   "id": "f9cab6e9",
   "metadata": {},
   "source": [
    "## Fetch data from W&B"
   ]
  },
  {
   "cell_type": "code",
   "execution_count": 3,
   "id": "3ef97712",
   "metadata": {
    "scrolled": true
   },
   "outputs": [
    {
     "name": "stderr",
     "output_type": "stream",
     "text": [
      "/Users/qy90eu/miniconda3/envs/nyc_airbnb_dev/lib/python3.9/site-packages/tqdm/auto.py:22: TqdmWarning: IProgress not found. Please update jupyter and ipywidgets. See https://ipywidgets.readthedocs.io/en/stable/user_install.html\n",
      "  from .autonotebook import tqdm as notebook_tqdm\n",
      "<ipython-input-3-40a9377fee0c>:3: DeprecationWarning: `import pandas_profiling` is going to be deprecated by April 1st. Please use `import ydata_profiling` instead.\n",
      "  import pandas_profiling\n"
     ]
    }
   ],
   "source": [
    "import wandb\n",
    "import pandas as pd\n",
    "import pandas_profiling"
   ]
  },
  {
   "cell_type": "code",
   "execution_count": 4,
   "id": "176357be",
   "metadata": {
    "scrolled": true
   },
   "outputs": [
    {
     "name": "stderr",
     "output_type": "stream",
     "text": [
      "\u001b[34m\u001b[1mwandb\u001b[0m: Currently logged in as: \u001b[33mjratschat\u001b[0m (use `wandb login --relogin` to force relogin)\n",
      "\u001b[34m\u001b[1mwandb\u001b[0m: wandb version 0.14.0 is available!  To upgrade, please run:\n",
      "\u001b[34m\u001b[1mwandb\u001b[0m:  $ pip install wandb --upgrade\n"
     ]
    },
    {
     "data": {
      "text/html": [
       "\n",
       "                Tracking run with wandb version 0.10.31<br/>\n",
       "                Syncing run <strong style=\"color:#cdcd00\">engineer-phage-34</strong> to <a href=\"https://wandb.ai\" target=\"_blank\">Weights & Biases</a> <a href=\"https://docs.wandb.com/integrations/jupyter.html\" target=\"_blank\">(Documentation)</a>.<br/>\n",
       "                Project page: <a href=\"https://wandb.ai/jratschat/nyc_airbnb\" target=\"_blank\">https://wandb.ai/jratschat/nyc_airbnb</a><br/>\n",
       "                Run page: <a href=\"https://wandb.ai/jratschat/nyc_airbnb/runs/3f4kc310\" target=\"_blank\">https://wandb.ai/jratschat/nyc_airbnb/runs/3f4kc310</a><br/>\n",
       "                Run data is saved locally in <code>/Users/qy90eu/Developer/udacity_nanodegree/build-ml-pipeline-for-short-term-rental-prices/src/eda/wandb/run-20230405_090726-3f4kc310</code><br/><br/>\n",
       "            "
      ],
      "text/plain": [
       "<IPython.core.display.HTML object>"
      ]
     },
     "metadata": {},
     "output_type": "display_data"
    }
   ],
   "source": [
    "# Initialize W&B run für nyc_airbnb project\n",
    "run = wandb.init(project=\"nyc_airbnb\", group=\"eda\", save_code=True)\n",
    "\n",
    "# Gather sample.csv from W&B\n",
    "local_path = wandb.use_artifact(\"sample.csv:latest\").file()\n",
    "df = pd.read_csv(local_path)"
   ]
  },
  {
   "cell_type": "markdown",
   "id": "c80b078a",
   "metadata": {},
   "source": [
    "## Generate profile report"
   ]
  },
  {
   "cell_type": "markdown",
   "id": "d23e0aee",
   "metadata": {},
   "source": [
    "Generate profile report to spot problems with the data."
   ]
  },
  {
   "cell_type": "code",
   "execution_count": null,
   "id": "e275f4f0",
   "metadata": {},
   "outputs": [
    {
     "name": "stderr",
     "output_type": "stream",
     "text": [
      "Summarize dataset:  48%|████▊     | 10/21 [00:00<00:00, 18.02it/s, Describe variable:neighbourhood_group]          "
     ]
    }
   ],
   "source": [
    "profile = pandas_profiling.ProfileReport(df)\n",
    "profile.to_notebook_iframe()"
   ]
  },
  {
   "cell_type": "markdown",
   "id": "9690171b",
   "metadata": {},
   "source": [
    "## Fix data issues"
   ]
  },
  {
   "cell_type": "markdown",
   "id": "1b6ffba0",
   "metadata": {},
   "source": [
    "Fix some data problems as discussed with stakeholders."
   ]
  },
  {
   "cell_type": "code",
   "execution_count": 4,
   "id": "7610a65a",
   "metadata": {},
   "outputs": [],
   "source": [
    "# Drop outliers\n",
    "min_price = 10\n",
    "max_price = 350\n",
    "idx = df['price'].between(min_price, max_price)\n",
    "df = df[idx].copy()\n",
    "# Convert last_review to datetime\n",
    "df['last_review'] = pd.to_datetime(df['last_review'])"
   ]
  },
  {
   "cell_type": "markdown",
   "id": "6ebdb537",
   "metadata": {},
   "source": [
    "## Check changes"
   ]
  },
  {
   "cell_type": "markdown",
   "id": "24140f13",
   "metadata": {},
   "source": [
    "Check if changes have been applied and are as expected."
   ]
  },
  {
   "cell_type": "code",
   "execution_count": 5,
   "id": "9792293a",
   "metadata": {},
   "outputs": [],
   "source": [
    "df.info()"
   ]
  },
  {
   "cell_type": "markdown",
   "id": "c1b8de90",
   "metadata": {},
   "source": [
    "## Finish run"
   ]
  },
  {
   "cell_type": "markdown",
   "id": "62a779cc",
   "metadata": {},
   "source": [
    "Terminate W&B run."
   ]
  },
  {
   "cell_type": "code",
   "execution_count": 6,
   "id": "87bd2499",
   "metadata": {},
   "outputs": [],
   "source": [
    "run.finish()"
   ]
  }
 ],
 "metadata": {
  "kernelspec": {
   "display_name": "Python 3",
   "language": "python",
   "name": "python3"
  },
  "language_info": {
   "codemirror_mode": {
    "name": "ipython",
    "version": 3
   },
   "file_extension": ".py",
   "mimetype": "text/x-python",
   "name": "python",
   "nbconvert_exporter": "python",
   "pygments_lexer": "ipython3",
   "version": "3.9.15"
  }
 },
 "nbformat": 4,
 "nbformat_minor": 5
}
